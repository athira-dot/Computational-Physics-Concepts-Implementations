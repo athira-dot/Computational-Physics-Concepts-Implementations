{
 "cells": [
  {
   "cell_type": "markdown",
   "id": "0b8e0acf",
   "metadata": {},
   "source": [
    "Solving system of equations by LU decomposition"
   ]
  },
  {
   "cell_type": "code",
   "execution_count": 1,
   "id": "0a79f2d1",
   "metadata": {},
   "outputs": [],
   "source": [
    "import numpy as np\n",
    "d=np.zeros((200,200))\n",
    "np.fill_diagonal(d,1.0)\n",
    "#print(b)\n",
    "c=(1/np.sqrt(200))*np.random.rand(200, 200)\n",
    "#print(c)\n",
    "B=2*d+c\n",
    "#finding the transpose of B\n",
    "C=np.zeros((200,200))\n",
    "for i in range(200):\n",
    "  for j in range(200):\n",
    "    C[i][j]=B[j][i]\n",
    "#FINDING THE COEFFICIENT MATRIX\n",
    "A=1/2*(B+C)\n",
    "#print(A)\n",
    "b=np.ones((200,1))\n"
   ]
  },
  {
   "cell_type": "code",
   "execution_count": 2,
   "id": "9e8399ab",
   "metadata": {},
   "outputs": [],
   "source": [
    "#LU decomposition\n",
    "U=np.ones((200,200))\n",
    "L=np.ones((200,200))\n",
    "for j in range(200):\n",
    "  for i in range(200):\n",
    "    if(i<=j):\n",
    "      U[i][j]=A[i][j]\n",
    "      for k in range(i):\n",
    "        U[i][j]=U[i][j]-L[i][k]*U[k][j]\n",
    "      if(i==j):\n",
    "        L[i][j]=1\n",
    "      else:\n",
    "        L[i][j]=0\n",
    "    else:\n",
    "      L[i][j]=A[i][j]\n",
    "      for k in range(j):\n",
    "        L[i][j]-=L[i][k]*U[k][j]\n",
    "      L[i][j]/=U[j][j]\n",
    "      U[i][j]=0\n",
    "#print(U)\n",
    "#print(L)\n",
    "R=np.dot(L,U)\n",
    "#print(R)\n",
    "b=np.ones((200,1))\n",
    "#print(b)\n",
    "Y=np.dot(np.linalg.inv(L),b)\n",
    "#print(Y)\n",
    "X=np.dot(np.linalg.inv(U),Y)\n",
    "#print(X)"
   ]
  }
 ],
 "metadata": {
  "kernelspec": {
   "display_name": "Python 3",
   "language": "python",
   "name": "python3"
  },
  "language_info": {
   "codemirror_mode": {
    "name": "ipython",
    "version": 3
   },
   "file_extension": ".py",
   "mimetype": "text/x-python",
   "name": "python",
   "nbconvert_exporter": "python",
   "pygments_lexer": "ipython3",
   "version": "3.8.8"
  }
 },
 "nbformat": 4,
 "nbformat_minor": 5
}
