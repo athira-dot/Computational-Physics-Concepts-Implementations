{
 "cells": [
  {
   "cell_type": "markdown",
   "id": "bebca7fe",
   "metadata": {},
   "source": [
    "Progaram to calculate Madelung Constant"
   ]
  },
  {
   "cell_type": "code",
   "execution_count": 1,
   "id": "fa43f025",
   "metadata": {},
   "outputs": [
    {
     "name": "stdout",
     "output_type": "stream",
     "text": [
      "enter l= no of atoms in all directions \n",
      "100\n",
      "madelung constant=  -1.0536476365294252\n"
     ]
    }
   ],
   "source": [
    "import math\n",
    "v=0.0\n",
    "print(\"enter l= no of atoms in all directions \")\n",
    "l=int(input())\n",
    "for i in range(-l,l+1):\n",
    "\tfor j in range(-l,l+1):\n",
    "\t\tfor k in range(-l,l+1):\n",
    "\t\t\tif((i==0)and(j==0)and(k==0)):\n",
    "\t\t\t\tbreak\n",
    "\t\t\telif((i+j+k)%2==0):\n",
    "\t\t\t\tp=(math.sqrt((i**2)+(j**2)+(k**2)))\n",
    "\t\t\t\tv=v+(1/p)\n",
    "\t\t\telif((i+j+k)%2==1):\n",
    "\t\t\t\tp=(math.sqrt((i**2)+(j**2)+(k**2)))\n",
    "\t\t\t\tv=v-(1/p)\n",
    "print(\"madelung constant= \",v)\t"
   ]
  },
  {
   "cell_type": "markdown",
   "id": "b4900024",
   "metadata": {},
   "source": [
    "As no of atoms in all directions  increases Madelung Constant approaches constant value."
   ]
  }
 ],
 "metadata": {
  "kernelspec": {
   "display_name": "Python 3",
   "language": "python",
   "name": "python3"
  },
  "language_info": {
   "codemirror_mode": {
    "name": "ipython",
    "version": 3
   },
   "file_extension": ".py",
   "mimetype": "text/x-python",
   "name": "python",
   "nbconvert_exporter": "python",
   "pygments_lexer": "ipython3",
   "version": "3.8.8"
  }
 },
 "nbformat": 4,
 "nbformat_minor": 5
}
