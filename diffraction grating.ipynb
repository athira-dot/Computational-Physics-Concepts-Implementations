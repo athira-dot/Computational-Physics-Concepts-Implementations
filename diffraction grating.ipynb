{
 "cells": [
  {
   "cell_type": "markdown",
   "id": "6d518b16",
   "metadata": {},
   "source": [
    "# diffraction grating"
   ]
  },
  {
   "cell_type": "code",
   "execution_count": 3,
   "id": "590173bb",
   "metadata": {},
   "outputs": [
    {
     "data": {
      "image/png": "[encoded data removed]",
      "text/plain": [
       "<Figure size 432x288 with 2 Axes>"
      ]
     },
     "metadata": {
      "needs_background": "light"
     },
     "output_type": "display_data"
    }
   ],
   "source": [
    "import numpy as np\n",
    "import matplotlib.pyplot as plt\n",
    "alpha=np.pi/(20*10**(-6))\n",
    "w=200*10**(-6)\n",
    "lam=500*10**(-9)\n",
    "fo=1\n",
    "s=0.1 # screen width\n",
    "No=int(w/(lam*fo))\n",
    "Nd=int(w/(lam*fo))\n",
    "W=10*w\n",
    "u=np.linspace(-w/2,w/2,No)\n",
    "y=abs((np.sin(alpha*u)))\n",
    "op1=np.zeros(int((Nd-No)/2))\n",
    "op2=np.zeros(int((Nd-No)/2))\n",
    "l1=np.append(op1,y)\n",
    "l2=np.append(y,op2)\n",
    "f=np.fft.fft(l2)\n",
    "f=np.conj(f)\n",
    "ff=np.zeros(len(f))\n",
    "for k in range(len(f)):\n",
    "  ff[k]=((W/Nd)**2)*abs(f[k])\n",
    "u,v=np.meshgrid(ff,np.linspace(-1,1,101))\n",
    "plt.contourf(u)\n",
    "plt.imshow(u,cmap='gray')\n",
    "plt.colorbar()\n",
    "plt.savefig('diffraction grating.png')\n",
    "plt.show()"
   ]
  }
 ],
 "metadata": {
  "kernelspec": {
   "display_name": "Python 3",
   "language": "python",
   "name": "python3"
  },
  "language_info": {
   "codemirror_mode": {
    "name": "ipython",
    "version": 3
   },
   "file_extension": ".py",
   "mimetype": "text/x-python",
   "name": "python",
   "nbconvert_exporter": "python",
   "pygments_lexer": "ipython3",
   "version": "3.8.8"
  }
 },
 "nbformat": 4,
 "nbformat_minor": 5
}
