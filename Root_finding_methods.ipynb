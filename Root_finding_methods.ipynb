{
 "cells": [
  {
   "cell_type": "markdown",
   "id": "3e90e8eb",
   "metadata": {},
   "source": [
    "Newton Raphson method to find roots of polynomial"
   ]
  },
  {
   "cell_type": "code",
   "execution_count": 1,
   "id": "17f8b352",
   "metadata": {},
   "outputs": [
    {
     "name": "stdout",
     "output_type": "stream",
     "text": [
      "roots are\n",
      "0.03376524289842398\n",
      "0.16939530676686793\n",
      "0.3806904069583998\n",
      "0.6193095930415992\n",
      "0.8306046932331221\n",
      "0.9662347571015693\n"
     ]
    }
   ],
   "source": [
    "#newton raphson method\n",
    "def f(x):\n",
    "  l=924*(x**6)-2772*(x**5)+3150*(x**4)-1680*(x**3)+420*(x**2)-42*x+1\n",
    "  return(l)\n",
    "\n",
    "def g(x):\n",
    "  l=5544*(x**5)-13860*(x**4)+12600*(x**3)-5040*(x**2)+840*x-42\n",
    "  return(l)\n",
    "\n",
    "e=10**(-10)\n",
    "\n",
    "def fg(x0):\n",
    "  #x=[]\n",
    "  d=1\n",
    "  while(d>e):\n",
    "    x1=x0-f(x0)/g(x0)\n",
    "    d=abs(x1-x0)\n",
    "    x0=x1\n",
    "  print(x0)\n",
    "  #x.append(x0)\n",
    "  #return(x)\n",
    "\n",
    "print(\"roots are\")\n",
    "(fg(0.0))\n",
    "(fg(0.11))\n",
    "(fg(0.31))\n",
    "(fg(0.58))\n",
    "(fg(0.82))\n",
    "(fg(0.9))"
   ]
  },
  {
   "cell_type": "markdown",
   "id": "0d76854f",
   "metadata": {},
   "source": [
    "\n",
    "\n",
    "Secant method to find the Lagrange Point\n"
   ]
  },
  {
   "cell_type": "code",
   "execution_count": 4,
   "id": "c8389095",
   "metadata": {},
   "outputs": [
    {
     "name": "stdout",
     "output_type": "stream",
     "text": [
      "initial guess1\n",
      "10000\n",
      "initial guess2\n",
      "100000\n",
      "Lagrange point\n",
      "326045071.66535544\n"
     ]
    }
   ],
   "source": [
    "def f(r):\n",
    "  G=6.674*(10**(-11))\n",
    "  M =5.974*(10**24)\n",
    "  m=7.348*10**22\n",
    "  R=3.844*10**8\n",
    "  w=2.662*10**(-6)\n",
    "  p=(G/(w**2))*(1/r)*((M/(r**2))-(m/(R-r)**2))\n",
    "  return(p-1)\n",
    "e=10**(-4)\n",
    "print(\"initial guess1\")\n",
    "x0=float(input())\n",
    "print(\"initial guess2\")\n",
    "x1=float(input())\n",
    "d=abs((x0-x1)/x1)\n",
    "while(d>e):\n",
    "  x2=(x0*f(x1)-x1*f(x0))/(f(x1)-f(x0))\n",
    "  d=abs((x1-x2)/2)\n",
    "  x0=x1\n",
    "  x1=x2\n",
    "print(\"Lagrange point\")\n",
    "print(x2)\n"
   ]
  }
 ],
 "metadata": {
  "kernelspec": {
   "display_name": "Python 3",
   "language": "python",
   "name": "python3"
  },
  "language_info": {
   "codemirror_mode": {
    "name": "ipython",
    "version": 3
   },
   "file_extension": ".py",
   "mimetype": "text/x-python",
   "name": "python",
   "nbconvert_exporter": "python",
   "pygments_lexer": "ipython3",
   "version": "3.8.8"
  }
 },
 "nbformat": 4,
 "nbformat_minor": 5
}
